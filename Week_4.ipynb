{
 "cells": [
  {
   "cell_type": "markdown",
   "metadata": {},
   "source": [
    "## Introduction"
   ]
  },
  {
   "cell_type": "markdown",
   "metadata": {},
   "source": [
    "The Food truck business is a fast-growing industry. It has been growing for years into today’s existing market segment. Although the restaurant industry has moved up at the growth rate of 2% yearly, the food truck industry has a huge 7.9% annual growth rate for the past 5 years. One of the main reasons for this growth is the low start-up cost of a food truck business which is approximately $50,000 to $100,000, with $250,000 to $500,000 expected annual revenue. In addition, the traditional food truck industry has provided other unique and creative opportunities for businesses.\n",
    "\n"
   ]
  },
  {
   "cell_type": "markdown",
   "metadata": {},
   "source": [
    "My business idea is to set up a food truck in an appropriate locality in the New York city which would serve Indian food at reasonable cost. Appropriate location would include shopping malls and big marts where families spend most of their weekends. Grabbing a bite of tasty Indian food after long hours of tiresome shopping could make anybody’s day. Also, the craze for eating organic and healthy food has taken an emerging trend.  Healthy and reasonable Indian snacks could be the best option on people’s list."
   ]
  },
  {
   "cell_type": "markdown",
   "metadata": {},
   "source": [
    "## Data that will be used to solve the problem and the source of the data.\n",
    "\n"
   ]
  },
  {
   "cell_type": "markdown",
   "metadata": {},
   "source": [
    "New York is the most populus city in the United States. The city contains 5 boroughs. The city has attracted tourists from all around the globe. The city not only has historical tourist locations but also rich and modern attractions such as shopping malls & parks.\n",
    "\n",
    "The data which I shall be using to conduct my analysis would include locational data from Foursquare. The data would help me locate the areas where modern shopping centres are located. Analyzing the locational data around the shopping malls would help me evaluate the appropriate location for setting up my Indian food truck.\n",
    "\n",
    "In such a way, I will be able to narrow down few locations before I commence the feasibility study of starting my business"
   ]
  },
  {
   "cell_type": "code",
   "execution_count": null,
   "metadata": {},
   "outputs": [],
   "source": [
    "\n"
   ]
  }
 ],
 "metadata": {
  "kernelspec": {
   "display_name": "Python",
   "language": "python",
   "name": "conda-env-python-py"
  },
  "language_info": {
   "codemirror_mode": {
    "name": "ipython",
    "version": 3
   },
   "file_extension": ".py",
   "mimetype": "text/x-python",
   "name": "python",
   "nbconvert_exporter": "python",
   "pygments_lexer": "ipython3",
   "version": "3.6.7"
  }
 },
 "nbformat": 4,
 "nbformat_minor": 4
}
